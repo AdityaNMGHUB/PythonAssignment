{
 "cells": [
  {
   "cell_type": "markdown",
   "id": "596f4c15-c965-4f89-8a1d-757c4a062c89",
   "metadata": {},
   "source": [
    "Data Types & Attributes"
   ]
  },
  {
   "cell_type": "code",
   "execution_count": 1,
   "id": "61c60004-4ebb-40d5-8cea-01a4d341fa1d",
   "metadata": {},
   "outputs": [
    {
     "name": "stdout",
     "output_type": "stream",
     "text": [
      "Array: [0 1 2 3 4 5]\n",
      "Data type: int32\n"
     ]
    }
   ],
   "source": [
    "# 1. Create a NumPy array arr of integers from 0 to 5 and print its data type.\n",
    "import numpy as np\n",
    "\n",
    "arr = np.arange(6)\n",
    "print(\"Array:\", arr)\n",
    "print(\"Data type:\", arr.dtype)\n"
   ]
  },
  {
   "cell_type": "code",
   "execution_count": 2,
   "id": "c8e813dc-b297-4d92-98bd-11bf45e45a6b",
   "metadata": {},
   "outputs": [
    {
     "name": "stdout",
     "output_type": "stream",
     "text": [
      "Is float64: True\n"
     ]
    }
   ],
   "source": [
    "# 2. Given a NumPy array arr, check if its data type is float64.\n",
    "arr = np.array([1.0, 2.0, 3.0])  # example\n",
    "print(\"Is float64:\", arr.dtype == np.float64)\n"
   ]
  },
  {
   "cell_type": "code",
   "execution_count": 3,
   "id": "7ca09418-1d7a-4fce-bd8e-2aa23cc20f71",
   "metadata": {},
   "outputs": [
    {
     "name": "stdout",
     "output_type": "stream",
     "text": [
      "Array: [1.+2.j 3.+4.j 5.+6.j]\n",
      "Data type: complex128\n"
     ]
    }
   ],
   "source": [
    "# 3. Create a NumPy array arr with a data type of complex128 containing three complex numbers.\n",
    "arr = np.array([1+2j, 3+4j, 5+6j], dtype=np.complex128)\n",
    "print(\"Array:\", arr)\n",
    "print(\"Data type:\", arr.dtype)\n"
   ]
  },
  {
   "cell_type": "code",
   "execution_count": 4,
   "id": "dbbecd92-2459-4499-96af-cfd6137028ea",
   "metadata": {},
   "outputs": [
    {
     "name": "stdout",
     "output_type": "stream",
     "text": [
      "Converted Array: [1. 2. 3. 4. 5.]\n",
      "Data type: float32\n"
     ]
    }
   ],
   "source": [
    "# 4. Convert an existing NumPy array arr of integers to float32 data type.\n",
    "arr = np.array([1, 2, 3, 4, 5])\n",
    "arr = arr.astype(np.float32)\n",
    "print(\"Converted Array:\", arr)\n",
    "print(\"Data type:\", arr.dtype)\n"
   ]
  },
  {
   "cell_type": "code",
   "execution_count": 5,
   "id": "cb2fa5f7-513c-438b-b699-ce2b44521a3c",
   "metadata": {},
   "outputs": [
    {
     "name": "stdout",
     "output_type": "stream",
     "text": [
      "Converted Array: [1.1234568 2.9876542]\n",
      "Data type: float32\n"
     ]
    }
   ],
   "source": [
    "# 5. Given a NumPy array arr with float64 data type, convert it to float32 to reduce decimal precision.\n",
    "arr = np.array([1.123456789, 2.987654321], dtype=np.float64)\n",
    "arr = arr.astype(np.float32)\n",
    "print(\"Converted Array:\", arr)\n",
    "print(\"Data type:\", arr.dtype)\n"
   ]
  },
  {
   "cell_type": "code",
   "execution_count": 6,
   "id": "3840dc33-3f7b-4611-8f92-8da58b0ba5b4",
   "metadata": {},
   "outputs": [
    {
     "name": "stdout",
     "output_type": "stream",
     "text": [
      "Shape: (3, 2)\n",
      "Size: 6\n",
      "Data type: int32\n"
     ]
    }
   ],
   "source": [
    "# 6. Write a function array_attributes that takes a NumPy array as input and returns its shape, size, and data type.\n",
    "arr = np.array([[1, 2], [3, 4], [5, 6]])\n",
    "print(\"Shape:\", arr.shape)\n",
    "print(\"Size:\", arr.size)\n",
    "print(\"Data type:\", arr.dtype)\n"
   ]
  },
  {
   "cell_type": "code",
   "execution_count": 7,
   "id": "8bbbd52b-a0c3-430a-b120-dab5e910716b",
   "metadata": {},
   "outputs": [
    {
     "name": "stdout",
     "output_type": "stream",
     "text": [
      "Dimensions: 2\n"
     ]
    }
   ],
   "source": [
    "# 7. Create a function array_dimension that returns the dimensionality of a NumPy array.\n",
    "arr = np.array([[1, 2], [3, 4], [5, 6]])\n",
    "print(\"Dimensions:\", arr.ndim)\n"
   ]
  },
  {
   "cell_type": "code",
   "execution_count": 8,
   "id": "3608ff29-216c-4921-94be-9bad5fe4d2a6",
   "metadata": {},
   "outputs": [
    {
     "name": "stdout",
     "output_type": "stream",
     "text": [
      "Item size (bytes): 4\n",
      "Total size (bytes): 24\n"
     ]
    }
   ],
   "source": [
    "# 8. Design a function item_size_info that returns the item size and total size in bytes of a NumPy array.\n",
    "arr = np.array([[1, 2, 3], [4, 5, 6]])\n",
    "print(\"Item size (bytes):\", arr.itemsize)\n",
    "print(\"Total size (bytes):\", arr.nbytes)\n"
   ]
  },
  {
   "cell_type": "code",
   "execution_count": 9,
   "id": "088cf8b8-4537-451e-a0d0-c412c0bb06ce",
   "metadata": {},
   "outputs": [
    {
     "name": "stdout",
     "output_type": "stream",
     "text": [
      "Strides: (8, 4)\n"
     ]
    }
   ],
   "source": [
    "# 9. Create a function array_strides that returns the strides of the given NumPy array.\n",
    "arr = np.array([[1, 2], [3, 4]])\n",
    "print(\"Strides:\", arr.strides)\n"
   ]
  },
  {
   "cell_type": "code",
   "execution_count": 10,
   "id": "6f900633-82c6-4e5a-88a5-1e4d512667d6",
   "metadata": {},
   "outputs": [
    {
     "name": "stdout",
     "output_type": "stream",
     "text": [
      "Shape: (2, 3)\n",
      "Strides: (12, 4)\n"
     ]
    }
   ],
   "source": [
    "# 10. Design a function shape_stride_relationship that returns the shape and strides of the given array.\n",
    "arr = np.array([[1, 2, 3], [4, 5, 6]])\n",
    "print(\"Shape:\", arr.shape)\n",
    "print(\"Strides:\", arr.strides)\n"
   ]
  },
  {
   "cell_type": "markdown",
   "id": "5fa20873-ae93-4972-91d3-db27f2443a0e",
   "metadata": {},
   "source": [
    "Array Creation"
   ]
  },
  {
   "cell_type": "code",
   "execution_count": 11,
   "id": "09aa8667-362f-4451-a536-606722fa9c26",
   "metadata": {},
   "outputs": [
    {
     "name": "stdout",
     "output_type": "stream",
     "text": [
      "Zeros Array: [0. 0. 0. 0. 0.]\n"
     ]
    }
   ],
   "source": [
    "#11. Create a function create_zeros_array(n) to return a NumPy array of zeros with n elements.\n",
    "import numpy as np\n",
    "\n",
    "n = 5  # example\n",
    "arr = np.zeros(n)\n",
    "print(\"Zeros Array:\", arr)\n"
   ]
  },
  {
   "cell_type": "code",
   "execution_count": 12,
   "id": "ce34f626-1f71-48a6-a9c5-561f559de2a3",
   "metadata": {},
   "outputs": [
    {
     "name": "stdout",
     "output_type": "stream",
     "text": [
      "Ones Matrix:\n",
      " [[1. 1. 1. 1.]\n",
      " [1. 1. 1. 1.]\n",
      " [1. 1. 1. 1.]]\n"
     ]
    }
   ],
   "source": [
    "# 12. Write a function create_ones_matrix(rows, cols) to create a 2D array filled with ones.\n",
    "rows = 3\n",
    "cols = 4\n",
    "matrix = np.ones((rows, cols))\n",
    "print(\"Ones Matrix:\\n\", matrix)\n"
   ]
  },
  {
   "cell_type": "code",
   "execution_count": 13,
   "id": "4816afc5-3f44-4470-a794-190ad8896f75",
   "metadata": {},
   "outputs": [
    {
     "name": "stdout",
     "output_type": "stream",
     "text": [
      "Ranged Array: [ 2  5  8 11 14 17]\n"
     ]
    }
   ],
   "source": [
    "# 13. Write a function generate_range_array(start, stop, step) to create a ranged NumPy array.\n",
    "start = 2\n",
    "stop = 20\n",
    "step = 3\n",
    "range_array = np.arange(start, stop, step)\n",
    "print(\"Ranged Array:\", range_array)\n"
   ]
  },
  {
   "cell_type": "code",
   "execution_count": 14,
   "id": "8b38d146-888b-4b89-8eb3-f2cde2402ccb",
   "metadata": {},
   "outputs": [
    {
     "name": "stdout",
     "output_type": "stream",
     "text": [
      "Linear Space: [0.   0.25 0.5  0.75 1.  ]\n"
     ]
    }
   ],
   "source": [
    "# 14. Design a function generate_linear_space(start, stop, num) for equally spaced values.\n",
    "start = 0\n",
    "stop = 1\n",
    "num = 5\n",
    "linear_space = np.linspace(start, stop, num)\n",
    "print(\"Linear Space:\", linear_space)"
   ]
  },
  {
   "cell_type": "code",
   "execution_count": 15,
   "id": "f21bae48-7c43-4c37-98f7-92937900a20e",
   "metadata": {},
   "outputs": [
    {
     "name": "stdout",
     "output_type": "stream",
     "text": [
      "Identity Matrix:\n",
      " [[1. 0. 0. 0.]\n",
      " [0. 1. 0. 0.]\n",
      " [0. 0. 1. 0.]\n",
      " [0. 0. 0. 1.]]\n"
     ]
    }
   ],
   "source": [
    "# 15. Create a function create_identity_matrix(n) using numpy.eye.\n",
    "n = 4\n",
    "identity_matrix = np.eye(n)\n",
    "print(\"Identity Matrix:\\n\", identity_matrix)"
   ]
  },
  {
   "cell_type": "code",
   "execution_count": 16,
   "id": "0aef2857-6a1f-4b47-aa96-b3bcaeacb618",
   "metadata": {},
   "outputs": [
    {
     "name": "stdout",
     "output_type": "stream",
     "text": [
      "NumPy Array: [10 20 30 40]\n"
     ]
    }
   ],
   "source": [
    "# 16. Write a function that converts a Python list into a NumPy array.\n",
    "python_list = [10, 20, 30, 40]\n",
    "np_array = np.array(python_list)\n",
    "print(\"NumPy Array:\", np_array)"
   ]
  },
  {
   "cell_type": "code",
   "execution_count": 17,
   "id": "0c91fd88-fd94-4f8a-bed4-79ccc64aa04c",
   "metadata": {},
   "outputs": [
    {
     "name": "stdout",
     "output_type": "stream",
     "text": [
      "Original Array: [1 2 3 4]\n",
      "View Array: [1 2 3 4]\n"
     ]
    }
   ],
   "source": [
    "# 17. Create a NumPy array and use numpy.view() to create a new view with the same data.\n",
    "original_array = np.array([1, 2, 3, 4])\n",
    "view_array = original_array.view()\n",
    "print(\"Original Array:\", original_array)\n",
    "print(\"View Array:\", view_array)"
   ]
  },
  {
   "cell_type": "markdown",
   "id": "cfe94349-754e-46fa-85e6-12fc96ab4e0c",
   "metadata": {},
   "source": [
    "Concatenation and Stacking"
   ]
  },
  {
   "cell_type": "code",
   "execution_count": 18,
   "id": "2dacf22f-3200-4423-b0c0-a8a016553eb4",
   "metadata": {},
   "outputs": [
    {
     "name": "stdout",
     "output_type": "stream",
     "text": [
      "Concatenated (axis=0):\n",
      " [[1 2]\n",
      " [3 4]\n",
      " [5 6]\n",
      " [7 8]]\n",
      "Concatenated (axis=1):\n",
      " [[1 2 5 6]\n",
      " [3 4 7 8]]\n"
     ]
    }
   ],
   "source": [
    "# 18. Write a function to concatenate two NumPy arrays along a specified axis.\n",
    "import numpy as np\n",
    "a = np.array([[1, 2], [3, 4]])\n",
    "b = np.array([[5, 6], [7, 8]])\n",
    "concatenated = np.concatenate((a, b), axis=0)  \n",
    "print(\"Concatenated (axis=0):\\n\", concatenated)\n",
    "concatenated = np.concatenate((a, b), axis=1)  \n",
    "print(\"Concatenated (axis=1):\\n\", concatenated)\n"
   ]
  },
  {
   "cell_type": "code",
   "execution_count": 19,
   "id": "ca120504-d27e-4f0b-a10f-f618e39ba0f9",
   "metadata": {},
   "outputs": [
    {
     "name": "stdout",
     "output_type": "stream",
     "text": [
      "Horizontally Concatenated:\n",
      " [[1 4 5]\n",
      " [2 6 7]\n",
      " [3 8 9]]\n"
     ]
    }
   ],
   "source": [
    "# 19. Concatenate two arrays with different shapes horizontally using numpy.concatenate.\n",
    "a = np.array([[1], [2], [3]])\n",
    "b = np.array([[4, 5], [6, 7], [8, 9]])\n",
    "concatenated = np.concatenate((a, b), axis=1)\n",
    "print(\"Horizontally Concatenated:\\n\", concatenated)\n"
   ]
  },
  {
   "cell_type": "code",
   "execution_count": 20,
   "id": "48e6f65d-4943-4f1f-92ca-d36582d780fa",
   "metadata": {},
   "outputs": [
    {
     "name": "stdout",
     "output_type": "stream",
     "text": [
      "Vertically Stacked:\n",
      " [[1 2 3]\n",
      " [4 5 6]\n",
      " [7 8 9]]\n"
     ]
    }
   ],
   "source": [
    "# 20. Vertically stack multiple arrays from a list using numpy.vstack.\n",
    "arrays = [np.array([1, 2, 3]),np.array([4, 5, 6]),np.array([7, 8, 9])]\n",
    "stacked = np.vstack(arrays)\n",
    "print(\"Vertically Stacked:\\n\", stacked)\n"
   ]
  },
  {
   "cell_type": "markdown",
   "id": "d879ebfc-5c8a-4406-ac39-219821ae7d32",
   "metadata": {},
   "source": [
    "Array Generation"
   ]
  },
  {
   "cell_type": "code",
   "execution_count": 36,
   "id": "3dc510f5-fc35-4228-8475-2d0101f2e3cf",
   "metadata": {},
   "outputs": [
    {
     "name": "stdout",
     "output_type": "stream",
     "text": [
      "Range with step: [ 0  2  4  6  8 10]\n"
     ]
    }
   ],
   "source": [
    "# 21. Write a function to generate start = 1 an array of integers within a specified range (inclusive) with a step.\n",
    "stop = 10\n",
    "step = 2\n",
    "arr = np.arange(start, stop + 1, step)\n",
    "print(\"Range with step:\", arr)\n"
   ]
  },
  {
   "cell_type": "code",
   "execution_count": 22,
   "id": "e0056839-7787-4664-aeda-6475989b6015",
   "metadata": {},
   "outputs": [
    {
     "name": "stdout",
     "output_type": "stream",
     "text": [
      "Equally spaced (0 to 1): [0.         0.11111111 0.22222222 0.33333333 0.44444444 0.55555556\n",
      " 0.66666667 0.77777778 0.88888889 1.        ]\n"
     ]
    }
   ],
   "source": [
    "# 22. Generate 10 equally spaced values between 0 and 1 using NumPy.\n",
    "arr = np.linspace(0, 1, 10)\n",
    "print(\"Equally spaced (0 to 1):\", arr)\n"
   ]
  },
  {
   "cell_type": "code",
   "execution_count": 23,
   "id": "79ddab12-faaa-424c-ac9f-74ca9b9dccb0",
   "metadata": {},
   "outputs": [
    {
     "name": "stdout",
     "output_type": "stream",
     "text": [
      "Log-spaced (1 to 1000): [   1.            5.62341325   31.6227766   177.827941   1000.        ]\n"
     ]
    }
   ],
   "source": [
    "# 23. Create 5 logarithmically spaced values between 1 and 1000.\n",
    "arr = np.logspace(0, 3, 5)  # 10^0 to 10^3 (1 to 1000)\n",
    "print(\"Log-spaced (1 to 1000):\", arr)\n"
   ]
  },
  {
   "cell_type": "markdown",
   "id": "76cc68d3-1ef9-478d-a57c-1011e879739a",
   "metadata": {},
   "source": [
    "Pandas + NumPy"
   ]
  },
  {
   "cell_type": "code",
   "execution_count": 24,
   "id": "8eeebffb-7e69-4074-95a8-7e30e3beb4c3",
   "metadata": {},
   "outputs": [
    {
     "name": "stdout",
     "output_type": "stream",
     "text": [
      "DataFrame:\n",
      "     A   B   C\n",
      "0  84  16  42\n",
      "1  62  70  40\n",
      "2   4  65  51\n",
      "3  86  75  11\n",
      "4  66  53  68\n"
     ]
    }
   ],
   "source": [
    "# 24. Create a Pandas DataFrame from a NumPy array with 5 rows and 3 columns of random integers (1-100).\n",
    "import pandas as pd\n",
    "np_array = np.random.randint(1, 101, size=(5, 3))\n",
    "df = pd.DataFrame(np_array, columns=['A', 'B', 'C'])\n",
    "print(\"DataFrame:\\n\", df)\n"
   ]
  },
  {
   "cell_type": "code",
   "execution_count": 25,
   "id": "b6cf7b79-a7d4-4504-9e39-7758cd82f5d0",
   "metadata": {},
   "outputs": [
    {
     "name": "stdout",
     "output_type": "stream",
     "text": [
      "Modified DataFrame:\n",
      "     A  B\n",
      "0  10 -1\n",
      "1   0  2\n",
      "2   7 -3\n",
      "3   0  4\n",
      "4   8  5\n"
     ]
    }
   ],
   "source": [
    "# 25. Write a function to replace all negative values in a specific column with zeros using NumPy.\n",
    "df = pd.DataFrame({'A': [10, -5, 7, -2, 8],'B': [-1, 2, -3, 4, 5]})\n",
    "df['A'] = np.where(df['A'] < 0, 0, df['A'])\n",
    "print(\"Modified DataFrame:\\n\", df)\n"
   ]
  },
  {
   "cell_type": "markdown",
   "id": "9532778a-7a36-4a16-ac25-1d631f58261d",
   "metadata": {},
   "source": [
    "Indexing and Slicing"
   ]
  },
  {
   "cell_type": "code",
   "execution_count": 26,
   "id": "01cda5e1-a00d-4f88-a261-e492a5b40c88",
   "metadata": {},
   "outputs": [
    {
     "name": "stdout",
     "output_type": "stream",
     "text": [
      "3rd element: 30\n"
     ]
    }
   ],
   "source": [
    "# 26. Access the 3rd element from the given NumPy array.\n",
    "import numpy as np\n",
    "arr = np.array([10, 20, 30, 40, 50])\n",
    "third_element = arr[2]\n",
    "print(\"3rd element:\", third_element)\n"
   ]
  },
  {
   "cell_type": "code",
   "execution_count": 27,
   "id": "3b998b3c-8267-4ebf-ab7b-0b4bb4777216",
   "metadata": {},
   "outputs": [
    {
     "name": "stdout",
     "output_type": "stream",
     "text": [
      "Element at (1,2): 6\n"
     ]
    }
   ],
   "source": [
    "# 27. Retrieve the element at index (1, 2) from a 2D array.\n",
    "arr2d = np.array([[1, 2, 3],[4, 5, 6],[7, 8, 9]])\n",
    "element = arr2d[1, 2]\n",
    "print(\"Element at (1,2):\", element)\n"
   ]
  },
  {
   "cell_type": "code",
   "execution_count": 28,
   "id": "7cf7ed09-eb21-4dfa-ba1b-b608cd24841d",
   "metadata": {},
   "outputs": [
    {
     "name": "stdout",
     "output_type": "stream",
     "text": [
      "Elements > 5: [ 6  8 10]\n"
     ]
    }
   ],
   "source": [
    "# 28. Extract elements greater than 5 using boolean indexing.\n",
    "arr = np.array([2, 6, 8, 1, 4, 10])\n",
    "filtered = arr[arr > 5]\n",
    "print(\"Elements > 5:\", filtered)\n"
   ]
  },
  {
   "cell_type": "code",
   "execution_count": 29,
   "id": "bd9727a2-183b-4e16-bd5d-7c7f92a9a656",
   "metadata": {},
   "outputs": [
    {
     "name": "stdout",
     "output_type": "stream",
     "text": [
      "Sliced elements (2 to 5): [30 40 50 60]\n"
     ]
    }
   ],
   "source": [
    "# 29. Slice elements from index 2 to 5 (inclusive) from a NumPy array.\n",
    "arr = np.array([10, 20, 30, 40, 50, 60, 70])\n",
    "sliced = arr[2:6]  # index 2 to 5\n",
    "print(\"Sliced elements (2 to 5):\", sliced)\n"
   ]
  },
  {
   "cell_type": "code",
   "execution_count": 30,
   "id": "b15e0a3b-8373-4590-a04b-35d98e09ae2b",
   "metadata": {},
   "outputs": [
    {
     "name": "stdout",
     "output_type": "stream",
     "text": [
      "Sub-array:\n",
      " [[2 3]\n",
      " [5 6]]\n"
     ]
    }
   ],
   "source": [
    "# 30. Slice the sub-array [[2, 3], [5, 6]] from a 2D array.\n",
    "arr2d = np.array([[1, 2, 3],[4, 5, 6],[7, 8, 9]])\n",
    "sub_array = arr2d[0:2, 1:3]\n",
    "print(\"Sub-array:\\n\", sub_array)\n"
   ]
  },
  {
   "cell_type": "markdown",
   "id": "5f1c7d73-e23d-4d72-bd3c-8e337b6f58be",
   "metadata": {},
   "source": [
    "Advanced Indexing"
   ]
  },
  {
   "cell_type": "code",
   "execution_count": 31,
   "id": "07a6e017-d415-4bd2-afc1-acab226b2aa8",
   "metadata": {},
   "outputs": [
    {
     "name": "stdout",
     "output_type": "stream",
     "text": [
      "Rows at index 0 and 2:\n",
      " [[10 20 30]\n",
      " [70 80 90]]\n"
     ]
    }
   ],
   "source": [
    "# 31. Extract elements based on indices from a 2D array.\n",
    "arr2d = np.array([[10, 20, 30],[40, 50, 60],[70, 80, 90]])\n",
    "indices = [0, 2]\n",
    "selected = arr2d[indices, :]\n",
    "print(\"Rows at index 0 and 2:\\n\", selected)\n"
   ]
  },
  {
   "cell_type": "code",
   "execution_count": 32,
   "id": "808579fe-102d-42a4-965a-1f788e127d47",
   "metadata": {},
   "outputs": [
    {
     "name": "stdout",
     "output_type": "stream",
     "text": [
      "Elements > 5: [9 7 8]\n"
     ]
    }
   ],
   "source": [
    "# 32. Filter elements greater than a threshold using boolean indexing.\n",
    "arr = np.array([4, 9, 2, 7, 1, 8])\n",
    "threshold = 5\n",
    "filtered = arr[arr > threshold]\n",
    "print(\"Elements > 5:\", filtered)\n"
   ]
  },
  {
   "cell_type": "code",
   "execution_count": 33,
   "id": "59b00357-8ed9-4721-a56d-c592ad0e3e33",
   "metadata": {},
   "outputs": [
    {
     "name": "stdout",
     "output_type": "stream",
     "text": [
      "Selected elements from 3D array: [ 5 15]\n"
     ]
    }
   ],
   "source": [
    "# 33. Extract specific elements from a 3D array using separate index arrays.\n",
    "arr3d = np.arange(27).reshape(3, 3, 3)\n",
    "i = np.array([0, 1])\n",
    "j = np.array([1, 2])\n",
    "k = np.array([2, 0])\n",
    "selected = arr3d[i, j, k]\n",
    "print(\"Selected elements from 3D array:\", selected)\n"
   ]
  },
  {
   "cell_type": "code",
   "execution_count": 34,
   "id": "5a288408-ad21-4c95-b918-69854cb56c75",
   "metadata": {},
   "outputs": [
    {
     "name": "stdout",
     "output_type": "stream",
     "text": [
      "Elements >15 and <30: [20 25]\n"
     ]
    }
   ],
   "source": [
    "# 34. Return elements satisfying two boolean conditions.\n",
    "arr = np.array([10, 15, 20, 25, 30])\n",
    "filtered = arr[(arr > 15) & (arr < 30)]\n",
    "print(\"Elements >15 and <30:\", filtered)\n"
   ]
  },
  {
   "cell_type": "code",
   "execution_count": 35,
   "id": "40bbc76c-d9a6-4171-a1cc-543e4fe73a33",
   "metadata": {},
   "outputs": [
    {
     "name": "stdout",
     "output_type": "stream",
     "text": [
      "Selected elements: [30 40 80]\n"
     ]
    }
   ],
   "source": [
    "# 35. Extract elements from a 2D array using separate row and column index arrays.\n",
    "arr2d = np.array([[10, 20, 30],[40, 50, 60],[70, 80, 90]])\n",
    "rows = np.array([0, 1, 2])\n",
    "cols = np.array([2, 0, 1])\n",
    "selected = arr2d[rows, cols]\n",
    "print(\"Selected elements:\", selected)\n"
   ]
  },
  {
   "cell_type": "code",
   "execution_count": null,
   "id": "d4fefb42-04e9-42b7-afeb-5621bb5c4d8e",
   "metadata": {},
   "outputs": [],
   "source": []
  },
  {
   "cell_type": "code",
   "execution_count": null,
   "id": "272c0386-8bea-4f29-b4cb-bb5be7cf9208",
   "metadata": {},
   "outputs": [],
   "source": []
  },
  {
   "cell_type": "code",
   "execution_count": null,
   "id": "3c67b056-d2bb-4fb8-83c4-2b5a422f5959",
   "metadata": {},
   "outputs": [],
   "source": []
  }
 ],
 "metadata": {
  "kernelspec": {
   "display_name": "Python [conda env:base] *",
   "language": "python",
   "name": "conda-base-py"
  },
  "language_info": {
   "codemirror_mode": {
    "name": "ipython",
    "version": 3
   },
   "file_extension": ".py",
   "mimetype": "text/x-python",
   "name": "python",
   "nbconvert_exporter": "python",
   "pygments_lexer": "ipython3",
   "version": "3.12.7"
  }
 },
 "nbformat": 4,
 "nbformat_minor": 5
}
