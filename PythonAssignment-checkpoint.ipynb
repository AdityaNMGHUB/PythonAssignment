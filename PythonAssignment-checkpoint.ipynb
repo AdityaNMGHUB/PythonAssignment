{
 "cells": [
  {
   "cell_type": "markdown",
   "id": "1a567f88-249d-4942-899d-8e2eec78a785",
   "metadata": {},
   "source": [
    "Section A: Data Types & Control Flow (Q1–Q15)"
   ]
  },
  {
   "cell_type": "code",
   "execution_count": 1,
   "id": "b6558f86-4937-4445-9201-5b9ba3483656",
   "metadata": {},
   "outputs": [
    {
     "name": "stdout",
     "output_type": "stream",
     "text": [
      "Second largest number: 9\n"
     ]
    }
   ],
   "source": [
    "# 1. Write a Python program to find the second largest number in a list without using the sort() method.\n",
    "a = [1,2,3,4,5,6,7,8,9,10]\n",
    "num1 = num2 = float('-inf')\n",
    "for i in a:\n",
    "    if i > num1:\n",
    "        num2 = num1\n",
    "        num1 = i\n",
    "    elif i > num2 and i != num1:\n",
    "        num2 = i\n",
    "print(\"Second largest number:\", num2)\n"
   ]
  },
  {
   "cell_type": "code",
   "execution_count": 2,
   "id": "520bd2ec-3de4-4393-b43b-a0e102bc964b",
   "metadata": {},
   "outputs": [
    {
     "name": "stdout",
     "output_type": "stream",
     "text": [
      "Sorted unique list: [1, 3, 5, 7]\n"
     ]
    }
   ],
   "source": [
    "# 2. Remove duplicates from a list without using set() and return it in sorted order.\n",
    "lst = [3, 5, 1, 3, 5, 7, 1]\n",
    "unique = []\n",
    "for i in lst:\n",
    "    if i not in unique:\n",
    "        unique.append(i)\n",
    "for i in range(len(unique)):\n",
    "    for j in range(len(unique) - i - 1):\n",
    "        if unique[j] > unique[j+1]:\n",
    "            unique[j], unique[j+1] = unique[j+1], unique[j]\n",
    "print(\"Sorted unique list:\", unique)"
   ]
  },
  {
   "cell_type": "code",
   "execution_count": 3,
   "id": "9d3b6b40-845a-4a79-b037-967f4767afe0",
   "metadata": {},
   "outputs": [
    {
     "name": "stdout",
     "output_type": "stream",
     "text": [
      "Sum: 50\n",
      "Average: 12.5\n"
     ]
    }
   ],
   "source": [
    "# 3. Find the sum and average of a list of numbers.\n",
    "lst = [5, 10, 15, 20]\n",
    "total = 0\n",
    "for num in lst:\n",
    "    total += num\n",
    "avg = total / len(lst)\n",
    "print(\"Sum:\", total)\n",
    "print(\"Average:\", avg)"
   ]
  },
  {
   "cell_type": "code",
   "execution_count": 4,
   "id": "583f863a-ab8f-4566-a273-2c6b78a7b9a0",
   "metadata": {},
   "outputs": [
    {
     "name": "stdin",
     "output_type": "stream",
     "text": [
      "Enter a number:  5\n"
     ]
    },
    {
     "name": "stdout",
     "output_type": "stream",
     "text": [
      "Prime\n"
     ]
    }
   ],
   "source": [
    "# 4. Create a program to check if a number is prime.\n",
    "num = int(input(\"Enter a number: \"))\n",
    "if num > 1:\n",
    "    is_prime = True\n",
    "    for i in range(2, num):\n",
    "        if num % i == 0:\n",
    "            is_prime = False\n",
    "            break\n",
    "    print(\"Prime\" if is_prime else \"Not Prime\")\n",
    "else:\n",
    "    print(\"Not Prime\")"
   ]
  },
  {
   "cell_type": "code",
   "execution_count": 5,
   "id": "73ee59f7-f2f9-45d3-872d-243937f6395e",
   "metadata": {},
   "outputs": [
    {
     "name": "stdout",
     "output_type": "stream",
     "text": [
      "Vowels: 3\n",
      "Consonants: 5\n",
      "Digits: 3\n",
      "Special Characters: 1\n"
     ]
    }
   ],
   "source": [
    "# 5. Count the number of vowels, consonants, digits, and special characters in a given string.\n",
    "s = \"AdityaNM@123\"\n",
    "vowels = consonants = digits = specials = 0\n",
    "for ch in s:\n",
    "    if ch.lower() in 'aeiou':\n",
    "        vowels += 1\n",
    "    elif ch.isalpha():\n",
    "        consonants += 1\n",
    "    elif ch.isdigit():\n",
    "        digits += 1\n",
    "    else:\n",
    "        specials += 1\n",
    "print(\"Vowels:\", vowels)\n",
    "print(\"Consonants:\", consonants)\n",
    "print(\"Digits:\", digits)\n",
    "print(\"Special Characters:\", specials)"
   ]
  },
  {
   "cell_type": "code",
   "execution_count": 6,
   "id": "895fdf93-bb42-4c82-b33e-d53b9ba1ce5b",
   "metadata": {},
   "outputs": [
    {
     "name": "stdout",
     "output_type": "stream",
     "text": [
      "2 4 6 8 10 12 14 16 18 20 22 24 26 28 30 32 34 36 38 40 42 44 46 48 50 52 54 56 58 60 62 64 66 68 70 72 74 76 78 80 82 84 86 88 90 92 94 96 98 100 "
     ]
    }
   ],
   "source": [
    "# 6. Print all even numbers between 1 and 100 using a for loop.\n",
    "for i in range(1, 101):\n",
    "    if i % 2 == 0:\n",
    "        print(i, end=\" \")"
   ]
  },
  {
   "cell_type": "code",
   "execution_count": 7,
   "id": "f17ad464-e527-4da7-8f8b-49390e013efb",
   "metadata": {},
   "outputs": [
    {
     "name": "stdin",
     "output_type": "stream",
     "text": [
      "Enter a number:  5\n"
     ]
    },
    {
     "name": "stdout",
     "output_type": "stream",
     "text": [
      "5 x 1 = 5\n",
      "5 x 2 = 10\n",
      "5 x 3 = 15\n",
      "5 x 4 = 20\n",
      "5 x 5 = 25\n",
      "5 x 6 = 30\n",
      "5 x 7 = 35\n",
      "5 x 8 = 40\n",
      "5 x 9 = 45\n",
      "5 x 10 = 50\n"
     ]
    }
   ],
   "source": [
    "# 7. Write a program to print the multiplication table of a number entered by the user.\n",
    "n = int(input(\"Enter a number: \"))\n",
    "for i in range(1, 11):\n",
    "    print(f\"{n} x {i} = {n * i}\")\n"
   ]
  },
  {
   "cell_type": "code",
   "execution_count": 8,
   "id": "3781bf23-245f-48f6-ac0d-7374df9a6133",
   "metadata": {},
   "outputs": [
    {
     "name": "stdout",
     "output_type": "stream",
     "text": [
      "[15, 30, 45, 60, 75, 90]\n"
     ]
    }
   ],
   "source": [
    "# 8. Create a list of numbers from 1 to 100 that are divisible by both 3 and 5.\n",
    "lst = []\n",
    "for i in range(1, 101):\n",
    "    if i % 3 == 0 and i % 5 == 0:\n",
    "        lst.append(i)\n",
    "print(lst)"
   ]
  },
  {
   "cell_type": "code",
   "execution_count": 11,
   "id": "b8b7faa6-32bf-41b7-9c7d-b43bc077aff7",
   "metadata": {},
   "outputs": [
    {
     "name": "stdin",
     "output_type": "stream",
     "text": [
      "Enter a number:  556678\n"
     ]
    },
    {
     "name": "stdout",
     "output_type": "stream",
     "text": [
      "Reversed number: 876655\n"
     ]
    }
   ],
   "source": [
    "# 9. Take a number input and print its reverse.\n",
    "num = int(input(\"Enter a number: \"))\n",
    "rev = 0\n",
    "while num != 0:\n",
    "    rev = rev * 10 + num % 10\n",
    "    num = num // 10\n",
    "print(\"Reversed number:\", rev)\n"
   ]
  },
  {
   "cell_type": "code",
   "execution_count": 12,
   "id": "35d00237-f695-443c-8da2-0ff2fbb87569",
   "metadata": {},
   "outputs": [
    {
     "name": "stdout",
     "output_type": "stream",
     "text": [
      "{'a': 6, 'd': 1, 'i': 2, 't': 1, 'y': 2, ' ': 2, 'n': 2, 'r': 2, 'm': 1, 's': 1, 'h': 1}\n"
     ]
    }
   ],
   "source": [
    "# 10. Count the frequency of each character in a string and store it in a dictionary.\n",
    "s = \"aditya narayan mishra\"\n",
    "freq = {}\n",
    "for ch in s:\n",
    "    if ch in freq:\n",
    "        freq[ch] += 1\n",
    "    else:\n",
    "        freq[ch] = 1\n",
    "print(freq)"
   ]
  },
  {
   "cell_type": "code",
   "execution_count": 13,
   "id": "d5f35729-0860-4fad-b60d-e76e47621e15",
   "metadata": {},
   "outputs": [
    {
     "name": "stdin",
     "output_type": "stream",
     "text": [
      "How many primes?  10\n"
     ]
    },
    {
     "name": "stdout",
     "output_type": "stream",
     "text": [
      "2 3 5 7 11 13 17 19 23 29 "
     ]
    }
   ],
   "source": [
    "# 11. Write a Python program to generate the first n prime numbers.\n",
    "n = int(input(\"How many primes? \"))\n",
    "count = 0\n",
    "num = 2\n",
    "while count < n:\n",
    "    is_prime = True\n",
    "    for i in range(2, num):\n",
    "        if num % i == 0:\n",
    "            is_prime = False\n",
    "            break\n",
    "    if is_prime:\n",
    "        print(num, end=\" \")\n",
    "        count += 1\n",
    "    num += 1"
   ]
  },
  {
   "cell_type": "code",
   "execution_count": 14,
   "id": "fe3cee22-038f-48b9-ad80-640bcc17ca51",
   "metadata": {},
   "outputs": [
    {
     "name": "stdin",
     "output_type": "stream",
     "text": [
      "Enter number:  5\n"
     ]
    },
    {
     "name": "stdout",
     "output_type": "stream",
     "text": [
      "Palindrome\n"
     ]
    }
   ],
   "source": [
    "# 12. Check whether a number is a palindrome or not.\n",
    "num = int(input(\"Enter number: \"))\n",
    "temp = num\n",
    "rev = 0\n",
    "while num > 0:\n",
    "    rev = rev * 10 + num % 10\n",
    "    num //= 10\n",
    "print(\"Palindrome\" if rev == temp else \"Not Palindrome\")"
   ]
  },
  {
   "cell_type": "code",
   "execution_count": 15,
   "id": "b2f96c13-e250-4f4a-96f0-9667b0b4eb8f",
   "metadata": {},
   "outputs": [
    {
     "name": "stdout",
     "output_type": "stream",
     "text": [
      "2 appears 3 times.\n"
     ]
    }
   ],
   "source": [
    "# 13. Count how many times a specific element appears in a list.\n",
    "lst = [1, 2, 3, 2, 4, 2, 5]\n",
    "element = 2\n",
    "count = 0\n",
    "for i in lst:\n",
    "    if i == element:\n",
    "        count += 1\n",
    "print(f\"{element} appears {count} times.\")"
   ]
  },
  {
   "cell_type": "code",
   "execution_count": 16,
   "id": "80aaf425-6563-43cc-9a83-a2dab492cef9",
   "metadata": {},
   "outputs": [
    {
     "name": "stdout",
     "output_type": "stream",
     "text": [
      "[4, 16, 36, 64, 100, 144, 196, 256, 324, 400, 484, 576, 676, 784, 900, 1024, 1156, 1296, 1444, 1600, 1764, 1936, 2116, 2304, 2500]\n"
     ]
    }
   ],
   "source": [
    "# 14. Create a list of squares of even numbers between 1 and 50.\n",
    "squares = []\n",
    "for i in range(1, 51):\n",
    "    if i % 2 == 0:\n",
    "        squares.append(i ** 2)\n",
    "print(squares)"
   ]
  },
  {
   "cell_type": "code",
   "execution_count": 17,
   "id": "5eaa1bbd-0050-4e4f-8bd9-d0248ebcbf29",
   "metadata": {},
   "outputs": [
    {
     "name": "stdout",
     "output_type": "stream",
     "text": [
      "[1, 2, 3, 4, 5]\n"
     ]
    }
   ],
   "source": [
    "# 15. Accept a list and return a new list with only unique elements (preserve order).\n",
    "lst = [1, 2, 2, 3, 4, 4, 5]\n",
    "unique = []\n",
    "for i in lst:\n",
    "    if i not in unique:\n",
    "        unique.append(i)\n",
    "print(unique)"
   ]
  },
  {
   "cell_type": "markdown",
   "id": "306abfb9-c603-4fb3-bfea-9f302b6a6a9b",
   "metadata": {},
   "source": [
    "Section B: Functions (Q16–Q30)"
   ]
  },
  {
   "cell_type": "code",
   "execution_count": 20,
   "id": "29a81009-b0db-4f3d-8098-7e2438fab0c5",
   "metadata": {},
   "outputs": [
    {
     "name": "stdin",
     "output_type": "stream",
     "text": [
      "Enter a number:  5\n"
     ]
    },
    {
     "name": "stdout",
     "output_type": "stream",
     "text": [
      "5 is Odd\n"
     ]
    }
   ],
   "source": [
    "#16. Write a function to check if a number is even or odd.\n",
    "def is_even_or_odd(num):\n",
    "    return \"Even\" if num % 2 == 0 else \"Odd\"\n",
    "\n",
    "num = int(input(\"Enter a number: \"))\n",
    "print(f\"{num} is\", is_even_or_odd(num))"
   ]
  },
  {
   "cell_type": "code",
   "execution_count": 21,
   "id": "167cff2d-cde2-4626-b65a-d3109869fe0a",
   "metadata": {},
   "outputs": [
    {
     "name": "stdin",
     "output_type": "stream",
     "text": [
      "Enter numbers separated by space:  1 2 3 4 5\n"
     ]
    },
    {
     "name": "stdout",
     "output_type": "stream",
     "text": [
      "Cumulative Sum: [1, 3, 6, 10, 15]\n"
     ]
    }
   ],
   "source": [
    "#17. Create a function that takes a list of numbers and returns their cumulative sum.\n",
    "def cumulative_sum(lst):\n",
    "    total = 0\n",
    "    result = []\n",
    "    for num in lst:\n",
    "        total += num\n",
    "        result.append(total)\n",
    "    return result\n",
    "\n",
    "lst = list(map(int, input(\"Enter numbers separated by space: \").split()))\n",
    "print(\"Cumulative Sum:\", cumulative_sum(lst))"
   ]
  },
  {
   "cell_type": "code",
   "execution_count": 32,
   "id": "ae0db5c4-2922-49ed-89bc-2c1d78be68e8",
   "metadata": {},
   "outputs": [
    {
     "name": "stdin",
     "output_type": "stream",
     "text": [
      "Enter a number:  5\n"
     ]
    },
    {
     "name": "stdout",
     "output_type": "stream",
     "text": [
      "Factorial of 5 is 120\n"
     ]
    }
   ],
   "source": [
    "#18. Write a recursive function to find the factorial of a number.\n",
    "def factorial(n):\n",
    "    if n == 0 or n == 1:\n",
    "        return 1\n",
    "    return n * factorial(n - 1)\n",
    "\n",
    "n = int(input(\"Enter a number: \"))\n",
    "print(f\"Factorial of {n} is\", factorial(n))\n"
   ]
  },
  {
   "cell_type": "code",
   "execution_count": 33,
   "id": "7d68084d-2914-4fd3-9854-5970fd66d4aa",
   "metadata": {},
   "outputs": [
    {
     "name": "stdin",
     "output_type": "stream",
     "text": [
      "Enter number of terms:  45\n"
     ]
    },
    {
     "name": "stdout",
     "output_type": "stream",
     "text": [
      "Fibonacci Series:\n",
      "0 1 1 2 3 5 8 13 21 34 55 89 144 233 377 610 987 1597 2584 4181 6765 10946 17711 28657 46368 75025 121393 196418 317811 514229 832040 1346269 2178309 3524578 5702887 9227465 14930352 24157817 39088169 63245986 102334155 165580141 267914296 433494437 701408733 "
     ]
    }
   ],
   "source": [
    "#19. Write a function to print the Fibonacci series up to n terms\n",
    "def fibonacci_series(n):\n",
    "    a, b = 0, 1\n",
    "    for _ in range(n):\n",
    "        print(a, end=' ')\n",
    "        a, b = b, a + b\n",
    "\n",
    "n = int(input(\"Enter number of terms: \"))\n",
    "print(\"Fibonacci Series:\")\n",
    "fibonacci_series(n)\n"
   ]
  },
  {
   "cell_type": "code",
   "execution_count": 35,
   "id": "3489c6be-7c7c-472a-8cc4-b58ced01a68e",
   "metadata": {},
   "outputs": [
    {
     "name": "stdin",
     "output_type": "stream",
     "text": [
      "Enter a string:  nitin\n"
     ]
    },
    {
     "name": "stdout",
     "output_type": "stream",
     "text": [
      "Palindrome\n"
     ]
    }
   ],
   "source": [
    "#20. Define a function that checks if a given string is a palindrome.\n",
    "def is_palindrome(s):\n",
    "    return s == s[::-1]\n",
    "\n",
    "s = input(\"Enter a string: \")\n",
    "print(\"Palindrome\" if is_palindrome(s) else \"Not Palindrome\")\n"
   ]
  },
  {
   "cell_type": "code",
   "execution_count": 36,
   "id": "ffd8835e-1d17-4657-b89c-17908f856846",
   "metadata": {},
   "outputs": [
    {
     "name": "stdin",
     "output_type": "stream",
     "text": [
      "Enter numbers separated by space:  1 11 2 3 \n"
     ]
    },
    {
     "name": "stdout",
     "output_type": "stream",
     "text": [
      "Maximum: 11\n",
      "Minimum: 1\n"
     ]
    }
   ],
   "source": [
    "#21. Create a function that returns the maximum and minimum elements from a list.\n",
    "def max_min(lst):\n",
    "    return max(lst), min(lst)\n",
    "\n",
    "lst = list(map(int, input(\"Enter numbers separated by space: \").split()))\n",
    "maximum, minimum = max_min(lst)\n",
    "print(\"Maximum:\", maximum)\n",
    "print(\"Minimum:\", minimum)\n"
   ]
  },
  {
   "cell_type": "code",
   "execution_count": 37,
   "id": "953bbc5f-5fa4-4782-915a-4c1e9cb56aa5",
   "metadata": {},
   "outputs": [
    {
     "name": "stdin",
     "output_type": "stream",
     "text": [
      "Enter a sentence:  aditya narayan mishra\n"
     ]
    },
    {
     "name": "stdout",
     "output_type": "stream",
     "text": [
      "Not a Pangram\n"
     ]
    }
   ],
   "source": [
    "#22. Write a function to check whether a string is a pangram.\n",
    "import string\n",
    "def is_pangram(s):\n",
    "    alphabet = set(string.ascii_lowercase)\n",
    "    return alphabet.issubset(set(s.lower()))\n",
    "\n",
    "s = input(\"Enter a sentence: \")\n",
    "print(\"Pangram\" if is_pangram(s) else \"Not a Pangram\")\n"
   ]
  },
  {
   "cell_type": "code",
   "execution_count": 39,
   "id": "df69b115-d079-498f-adfc-8fe13068a2c0",
   "metadata": {},
   "outputs": [
    {
     "name": "stdin",
     "output_type": "stream",
     "text": [
      "Enter start of range:  1 \n",
      "Enter end of range:  20 \n"
     ]
    },
    {
     "name": "stdout",
     "output_type": "stream",
     "text": [
      "Prime numbers: [2, 3, 5, 7, 11, 13, 17, 19]\n"
     ]
    }
   ],
   "source": [
    "#23. Create a function that finds and returns all prime numbers in a given range.\n",
    "def primes_in_range(start, end):\n",
    "    primes = []\n",
    "    for num in range(start, end + 1):\n",
    "        if num > 1:\n",
    "            for i in range(2, int(num**0.5)+1):\n",
    "                if num % i == 0:\n",
    "                    break\n",
    "            else:\n",
    "                primes.append(num)\n",
    "    return primes\n",
    "\n",
    "start = int(input(\"Enter start of range: \"))\n",
    "end = int(input(\"Enter end of range: \"))\n",
    "print(\"Prime numbers:\", primes_in_range(start, end))\n"
   ]
  },
  {
   "cell_type": "code",
   "execution_count": 41,
   "id": "a33aafae-493b-455f-9ec1-0443bbcce263",
   "metadata": {},
   "outputs": [
    {
     "name": "stdin",
     "output_type": "stream",
     "text": [
      "Enter a string:  aditya\n"
     ]
    },
    {
     "name": "stdout",
     "output_type": "stream",
     "text": [
      "Uppercase letters: 0\n",
      "Lowercase letters: 6\n"
     ]
    }
   ],
   "source": [
    "#24. Write a function to return the number of uppercase and lowercase letters in a string\n",
    "def count_case(s):\n",
    "    upper = sum(1 for c in s if c.isupper())\n",
    "    lower = sum(1 for c in s if c.islower())\n",
    "    return upper, lower\n",
    "\n",
    "s = input(\"Enter a string: \")\n",
    "upper, lower = count_case(s)\n",
    "print(\"Uppercase letters:\", upper)\n",
    "print(\"Lowercase letters:\", lower)\n"
   ]
  },
  {
   "cell_type": "code",
   "execution_count": 44,
   "id": "6dffe6e0-27f6-4894-aa0e-0f5dccd1f478",
   "metadata": {},
   "outputs": [
    {
     "name": "stdin",
     "output_type": "stream",
     "text": [
      "Enter a number:  123456789\n"
     ]
    },
    {
     "name": "stdout",
     "output_type": "stream",
     "text": [
      "Sum of digits: 45\n"
     ]
    }
   ],
   "source": [
    "#25. Write a function to compute the sum of digits of a number.\n",
    "def sum_of_digits(n):\n",
    "    return sum(int(digit) for digit in str(abs(n)))\n",
    "\n",
    "n = int(input(\"Enter a number: \"))\n",
    "print(\"Sum of digits:\", sum_of_digits(n))\n"
   ]
  },
  {
   "cell_type": "code",
   "execution_count": 45,
   "id": "fb625386-d88f-4a00-b489-16cc48a339e5",
   "metadata": {},
   "outputs": [
    {
     "name": "stdin",
     "output_type": "stream",
     "text": [
      "Enter a sentence:  aditya narayan mishra\n"
     ]
    },
    {
     "name": "stdout",
     "output_type": "stream",
     "text": [
      "Number of words: 3\n"
     ]
    }
   ],
   "source": [
    "#26. Write a function to count words in a sentence\n",
    "def count_words(sentence):\n",
    "    return len(sentence.split())\n",
    "\n",
    "sentence = input(\"Enter a sentence: \")\n",
    "print(\"Number of words:\", count_words(sentence))\n"
   ]
  },
  {
   "cell_type": "code",
   "execution_count": 48,
   "id": "666a074d-6526-43a4-afcc-7d8a03c59621",
   "metadata": {},
   "outputs": [
    {
     "name": "stdin",
     "output_type": "stream",
     "text": [
      "Enter a string with punctuation:  aditya narayan \n"
     ]
    },
    {
     "name": "stdout",
     "output_type": "stream",
     "text": [
      "Clean string: aditya narayan \n"
     ]
    }
   ],
   "source": [
    "#27. Create a function to remove all punctuation from a string\n",
    "import string\n",
    "def remove_punctuation(s):\n",
    "    return ''.join(c for c in s if c not in string.punctuation)\n",
    "\n",
    "s = input(\"Enter a string with punctuation: \")\n",
    "print(\"Clean string:\", remove_punctuation(s))\n",
    "\n"
   ]
  },
  {
   "cell_type": "code",
   "execution_count": 49,
   "id": "2a983974-bd51-4fd5-a586-5975da6efb3c",
   "metadata": {},
   "outputs": [
    {
     "name": "stdin",
     "output_type": "stream",
     "text": [
      "Enter first number:  5\n",
      "Enter second number:  25\n"
     ]
    },
    {
     "name": "stdout",
     "output_type": "stream",
     "text": [
      "GCD of 5 and 25 is 5\n"
     ]
    }
   ],
   "source": [
    "#28. Create a function that finds the GCD (greatest common divisor) of two numbers.\n",
    "def gcd(a, b):\n",
    "    while b:\n",
    "        a, b = b, a % b\n",
    "    return a\n",
    "\n",
    "a = int(input(\"Enter first number: \"))\n",
    "b = int(input(\"Enter second number: \"))\n",
    "print(f\"GCD of {a} and {b} is\", gcd(a, b))\n"
   ]
  },
  {
   "cell_type": "code",
   "execution_count": 51,
   "id": "26c82acc-1897-46a4-92c8-a60fbb503654",
   "metadata": {},
   "outputs": [
    {
     "name": "stdin",
     "output_type": "stream",
     "text": [
      "Enter numbers separated by space:  1 1 5 7 9 5 7 9 3 \n"
     ]
    },
    {
     "name": "stdout",
     "output_type": "stream",
     "text": [
      "Duplicates: [1, 5, 9, 7]\n"
     ]
    }
   ],
   "source": [
    "#29. Write a function that takes a list and returns only those elements that appear more than once.\n",
    "def find_duplicates(lst):\n",
    "    seen = set()\n",
    "    duplicates = set()\n",
    "    for num in lst:\n",
    "        if num in seen:\n",
    "            duplicates.add(num)\n",
    "        else:\n",
    "            seen.add(num)\n",
    "    return list(duplicates)\n",
    "\n",
    "lst = list(map(int, input(\"Enter numbers separated by space: \").split()))\n",
    "print(\"Duplicates:\", find_duplicates(lst))\n"
   ]
  },
  {
   "cell_type": "code",
   "execution_count": 52,
   "id": "1366a404-87eb-4ac3-a5b7-10808fb632a3",
   "metadata": {},
   "outputs": [
    {
     "name": "stdin",
     "output_type": "stream",
     "text": [
      "Enter first number:  1  \n",
      "Enter second number:  80 \n",
      "Enter third number:  60\n"
     ]
    },
    {
     "name": "stdout",
     "output_type": "stream",
     "text": [
      "Largest number is: 80\n"
     ]
    }
   ],
   "source": [
    "#30. Create a function to return the largest of three numbers.\n",
    "def largest_of_three(a, b, c):\n",
    "    return max(a, b, c)\n",
    "\n",
    "a = int(input(\"Enter first number: \"))\n",
    "b = int(input(\"Enter second number: \"))\n",
    "c = int(input(\"Enter third number: \"))\n",
    "print(\"Largest number is:\", largest_of_three(a, b, c))\n"
   ]
  },
  {
   "cell_type": "markdown",
   "id": "422f7ba2-4ee0-4767-9ed9-4f1efb5677f8",
   "metadata": {},
   "source": [
    "Section C: String, List, Dictionary & Tuple Operations (Q31–Q40)"
   ]
  },
  {
   "cell_type": "code",
   "execution_count": 22,
   "id": "1525ad47-972e-4e18-b0ae-812ed5979494",
   "metadata": {},
   "outputs": [
    {
     "name": "stdin",
     "output_type": "stream",
     "text": [
      "Enter a sentence:  aditya narayan\n"
     ]
    },
    {
     "name": "stdout",
     "output_type": "stream",
     "text": [
      "Sorted words: ['aditya', 'narayan']\n"
     ]
    }
   ],
   "source": [
    "#31. Write a program to sort words in a sentence alphabetically.\n",
    "sentence = input(\"Enter a sentence: \")\n",
    "words = sentence.split()\n",
    "words.sort()\n",
    "print(\"Sorted words:\", words)\n"
   ]
  },
  {
   "cell_type": "code",
   "execution_count": 23,
   "id": "e3437d49-dd18-483b-bef1-151ab0a36f49",
   "metadata": {},
   "outputs": [
    {
     "name": "stdout",
     "output_type": "stream",
     "text": [
      "Concatenated Dictionary: {'a': 1, 'b': 2, 'c': 3, 'd': 4}\n"
     ]
    }
   ],
   "source": [
    "# 32. Concatenate two dictionaries and print the result.\n",
    "dict1 = {'a': 1, 'b': 2}\n",
    "dict2 = {'c': 3, 'd': 4}\n",
    "dict1.update(dict2)\n",
    "print(\"Concatenated Dictionary:\", dict1)\n"
   ]
  },
  {
   "cell_type": "code",
   "execution_count": 24,
   "id": "3bd30f4f-ada1-4b4a-8c89-a803fb5257d6",
   "metadata": {},
   "outputs": [
    {
     "name": "stdin",
     "output_type": "stream",
     "text": [
      "Enter a sentence:  aditya abarac kbi\n"
     ]
    },
    {
     "name": "stdout",
     "output_type": "stream",
     "text": [
      "'aditya' has 3 vowels\n",
      "'abarac' has 3 vowels\n",
      "'kbi' has 1 vowels\n"
     ]
    }
   ],
   "source": [
    "# 33. Count how many vowels are present in each word of a sentence.\n",
    "sentence = input(\"Enter a sentence: \")\n",
    "vowels = 'aeiouAEIOU'\n",
    "words = sentence.split()\n",
    "for word in words:\n",
    "    count = 0\n",
    "    for char in word:\n",
    "        if char in vowels:\n",
    "            count += 1\n",
    "    print(f\"'{word}' has {count} vowels\")\n"
   ]
  },
  {
   "cell_type": "code",
   "execution_count": 25,
   "id": "d72dae3c-7026-4c97-a216-9660aa1ed342",
   "metadata": {},
   "outputs": [
    {
     "name": "stdin",
     "output_type": "stream",
     "text": [
      "Enter tuple elements separated by space:  1 1 1 1 12 2 2 2 23  3 \n"
     ]
    },
    {
     "name": "stdout",
     "output_type": "stream",
     "text": [
      "List: ['1', '1', '1', '1', '12', '2', '2', '2', '23', '3']\n"
     ]
    }
   ],
   "source": [
    "# 34. Accept a tuple and convert it into a list.\n",
    "t = tuple(input(\"Enter tuple elements separated by space: \").split())\n",
    "lst = list(t)\n",
    "print(\"List:\", lst)\n"
   ]
  },
  {
   "cell_type": "code",
   "execution_count": 26,
   "id": "2a6f6153-23b4-4bb6-8b43-df8e9f2e1bc2",
   "metadata": {},
   "outputs": [
    {
     "name": "stdin",
     "output_type": "stream",
     "text": [
      "Enter a string with spaces:  a d i t y a\n"
     ]
    },
    {
     "name": "stdout",
     "output_type": "stream",
     "text": [
      "Without whitespace: aditya\n"
     ]
    }
   ],
   "source": [
    "# 35. Remove all whitespace from a given string using a function.\n",
    "s = input(\"Enter a string with spaces: \")\n",
    "no_space = s.replace(\" \", \"\")\n",
    "print(\"Without whitespace:\", no_space)\n"
   ]
  },
  {
   "cell_type": "code",
   "execution_count": 27,
   "id": "37f1393e-ca02-4f85-a709-b0c623c6a7d0",
   "metadata": {},
   "outputs": [
    {
     "name": "stdin",
     "output_type": "stream",
     "text": [
      "Enter keys separated by space:  a d i t y a\n",
      "Enter values separated by space:  1 2 3 3 4\n"
     ]
    },
    {
     "name": "stdout",
     "output_type": "stream",
     "text": [
      "Merged Dictionary: {'a': '1', 'd': '2', 'i': '3', 't': '3', 'y': '4'}\n"
     ]
    }
   ],
   "source": [
    "# 36. Merge two lists into a dictionary using one as keys and the other as values.\n",
    "keys = input(\"Enter keys separated by space: \").split()\n",
    "values = input(\"Enter values separated by space: \").split()\n",
    "d = dict(zip(keys, values))\n",
    "print(\"Merged Dictionary:\", d)\n"
   ]
  },
  {
   "cell_type": "code",
   "execution_count": 28,
   "id": "bdbad8e1-ec22-444e-8956-7fdfadb134c8",
   "metadata": {},
   "outputs": [
    {
     "name": "stdout",
     "output_type": "stream",
     "text": [
      "Key with maximum value: b\n"
     ]
    }
   ],
   "source": [
    "# 37. Write a program to get the key with the maximum value in a dictionary.\n",
    "d = {'a': 100, 'b': 300, 'c': 250}\n",
    "max_key = max(d, key=d.get)\n",
    "print(\"Key with maximum value:\", max_key)\n"
   ]
  },
  {
   "cell_type": "code",
   "execution_count": 29,
   "id": "8f0cec93-70a6-4cbc-8efe-2407fb89ebdb",
   "metadata": {},
   "outputs": [
    {
     "name": "stdin",
     "output_type": "stream",
     "text": [
      "Enter a sentence:  aditya narayan mishra\n"
     ]
    },
    {
     "name": "stdout",
     "output_type": "stream",
     "text": [
      "Word Frequencies: {'aditya': 1, 'narayan': 1, 'mishra': 1}\n"
     ]
    }
   ],
   "source": [
    "# 38. Accept a string and print a dictionary with word frequencies.\n",
    "s = input(\"Enter a sentence: \")\n",
    "words = s.split()\n",
    "freq = {}\n",
    "for word in words:\n",
    "    if word in freq:\n",
    "        freq[word] += 1\n",
    "    else:\n",
    "        freq[word] = 1\n",
    "print(\"Word Frequencies:\", freq)\n"
   ]
  },
  {
   "cell_type": "code",
   "execution_count": 30,
   "id": "3326f404-5973-43f9-94ae-96911ee33661",
   "metadata": {},
   "outputs": [
    {
     "name": "stdin",
     "output_type": "stream",
     "text": [
      "Enter key to check:  1 2 3 \n"
     ]
    },
    {
     "name": "stdout",
     "output_type": "stream",
     "text": [
      "Key does not exist\n"
     ]
    }
   ],
   "source": [
    "# 39. Write a program to check if a key exists in a dictionary.\n",
    "d = {'name': 'John', 'age': 30}\n",
    "key = input(\"Enter key to check: \")\n",
    "if key in d:\n",
    "    print(\"Key exists\")\n",
    "else:\n",
    "    print(\"Key does not exist\")\n"
   ]
  },
  {
   "cell_type": "code",
   "execution_count": 31,
   "id": "c27c7276-d41a-429b-9fd0-d4db98a7f46d",
   "metadata": {},
   "outputs": [
    {
     "name": "stdin",
     "output_type": "stream",
     "text": [
      "Enter a string:  aditya b\n"
     ]
    },
    {
     "name": "stdout",
     "output_type": "stream",
     "text": [
      "Modified String: *d*ty* b\n"
     ]
    }
   ],
   "source": [
    "# 40. Write a program to replace all the vowels in a string with '*'\n",
    "s = input(\"Enter a string: \")\n",
    "vowels = 'aeiouAEIOU'\n",
    "modified = ''\n",
    "for char in s:\n",
    "    if char in vowels:\n",
    "        modified += '*'\n",
    "    else:\n",
    "        modified += char\n",
    "print(\"Modified String:\", modified)\n"
   ]
  },
  {
   "cell_type": "markdown",
   "id": "fcc40dca-fa9a-4464-be5a-b5bac74684de",
   "metadata": {},
   "source": [
    "Section D: File Handling (Q41–Q45)"
   ]
  },
  {
   "cell_type": "code",
   "execution_count": 58,
   "id": "c069ab8e-05a0-479d-b516-dfce63c2530f",
   "metadata": {},
   "outputs": [],
   "source": [
    "# 41. Write a Python program to read the contents of a file and display it.\n",
    "\n"
   ]
  },
  {
   "cell_type": "code",
   "execution_count": 62,
   "id": "4212c9a2-b50d-4d74-b1ee-b4dc600e38be",
   "metadata": {},
   "outputs": [],
   "source": [
    "#42. Count the number of words in a file\n"
   ]
  },
  {
   "cell_type": "code",
   "execution_count": 59,
   "id": "576d303d-918c-4560-b0cf-63d9a46dafe6",
   "metadata": {},
   "outputs": [],
   "source": [
    "# 43. Copy contents of one file to another.\n",
    "\n"
   ]
  },
  {
   "cell_type": "code",
   "execution_count": 60,
   "id": "4614e073-9d94-45c2-b202-0bad5c04a783",
   "metadata": {},
   "outputs": [],
   "source": [
    "# 44. Print only the lines that have more than 50 characters from a text file.\n",
    "\n"
   ]
  },
  {
   "cell_type": "code",
   "execution_count": 61,
   "id": "3ba4de15-22fb-43a7-8ef6-22ccb83e5d36",
   "metadata": {},
   "outputs": [],
   "source": [
    "# 45. Write a program to write a list of strings into a text file (one string per line).\n",
    "\n"
   ]
  },
  {
   "cell_type": "markdown",
   "id": "39a69ba5-0295-4878-8f02-75bd7d7b0532",
   "metadata": {},
   "source": [
    "Section E: Exception Handling (Q46–Q50)"
   ]
  },
  {
   "cell_type": "code",
   "execution_count": 68,
   "id": "32479f19-154a-43bf-9368-ff0f950a04ed",
   "metadata": {},
   "outputs": [
    {
     "name": "stdin",
     "output_type": "stream",
     "text": [
      "Enter numerator:  5\n",
      "Enter denominator:  25\n"
     ]
    },
    {
     "name": "stdout",
     "output_type": "stream",
     "text": [
      "Result: 0.2\n"
     ]
    }
   ],
   "source": [
    "#46. Write a program to take two numbers as input and handle division by zero.\n",
    "try:\n",
    "    a = int(input(\"Enter numerator: \"))\n",
    "    b = int(input(\"Enter denominator: \"))\n",
    "    result = a / b\n",
    "    print(\"Result:\", result)\n",
    "except ZeroDivisionError:\n",
    "    print(\"Error: Cannot divide by zero.\")\n"
   ]
  },
  {
   "cell_type": "code",
   "execution_count": 69,
   "id": "ec76c8b0-97af-4d8f-b7cb-1542ecfe90fd",
   "metadata": {},
   "outputs": [
    {
     "name": "stdin",
     "output_type": "stream",
     "text": [
      "Enter a number:  45\n"
     ]
    },
    {
     "name": "stdout",
     "output_type": "stream",
     "text": [
      "You entered: 45\n"
     ]
    }
   ],
   "source": [
    "#47. Handle invalid user input (e.g., entering a string when a number is expected).\n",
    "try:\n",
    "    num = int(input(\"Enter a number: \"))\n",
    "    print(\"You entered:\", num)\n",
    "except ValueError:\n",
    "    print(\"Invalid input! Please enter a numeric value.\")\n"
   ]
  },
  {
   "cell_type": "code",
   "execution_count": 71,
   "id": "e1f747e2-f985-415f-87b2-a2562f2fff39",
   "metadata": {},
   "outputs": [
    {
     "name": "stdout",
     "output_type": "stream",
     "text": [
      "Error: File not found.\n"
     ]
    }
   ],
   "source": [
    "#48. Try to open a file that doesn’t exist and handle the FileNotFoundError.\n",
    "try:\n",
    "    file = open(\"nonexistent.txt\", \"r\")\n",
    "    print(file.read())\n",
    "    file.close()\n",
    "except FileNotFoundError:\n",
    "    print(\"Error: File not found.\")\n"
   ]
  },
  {
   "cell_type": "code",
   "execution_count": 72,
   "id": "85582743-bc11-4202-986d-502e9b5e69f6",
   "metadata": {},
   "outputs": [
    {
     "name": "stdin",
     "output_type": "stream",
     "text": [
      "Enter an index to access:  3\n"
     ]
    },
    {
     "name": "stdout",
     "output_type": "stream",
     "text": [
      "Value at index: 40\n"
     ]
    }
   ],
   "source": [
    "#49. Create a list of numbers and try accessing an invalid index. Handle the exception gracefully.\n",
    "numbers = [10, 20, 30, 40]\n",
    "try:\n",
    "    index = int(input(\"Enter an index to access: \"))\n",
    "    print(\"Value at index:\", numbers[index])\n",
    "except IndexError:\n",
    "    print(\"Index out of range!\")\n"
   ]
  },
  {
   "cell_type": "code",
   "execution_count": 73,
   "id": "4a78ad7e-9cca-4166-9470-eb551ceb6aa2",
   "metadata": {},
   "outputs": [
    {
     "name": "stdin",
     "output_type": "stream",
     "text": [
      "Enter a number:  25\n"
     ]
    },
    {
     "name": "stdout",
     "output_type": "stream",
     "text": [
      "Result: 0.4\n",
      "This block always executes (finally).\n"
     ]
    }
   ],
   "source": [
    "#50. Use a try-except-finally block to demonstrate the execution of the finally clause.\n",
    "try:\n",
    "    x = int(input(\"Enter a number: \"))\n",
    "    y = 10 / x\n",
    "    print(\"Result:\", y)\n",
    "except ZeroDivisionError:\n",
    "    print(\"Can't divide by zero.\")\n",
    "finally:\n",
    "    print(\"This block always executes (finally).\")\n"
   ]
  },
  {
   "cell_type": "code",
   "execution_count": null,
   "id": "2df5271d-1b08-4732-b6a9-142f5d594dba",
   "metadata": {},
   "outputs": [],
   "source": []
  }
 ],
 "metadata": {
  "kernelspec": {
   "display_name": "Python [conda env:base] *",
   "language": "python",
   "name": "conda-base-py"
  },
  "language_info": {
   "codemirror_mode": {
    "name": "ipython",
    "version": 3
   },
   "file_extension": ".py",
   "mimetype": "text/x-python",
   "name": "python",
   "nbconvert_exporter": "python",
   "pygments_lexer": "ipython3",
   "version": "3.12.7"
  }
 },
 "nbformat": 4,
 "nbformat_minor": 5
}
